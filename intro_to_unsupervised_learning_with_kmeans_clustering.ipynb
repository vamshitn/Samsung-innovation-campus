{
  "cells": [
    {
      "cell_type": "markdown",
      "metadata": {
        "id": "view-in-github",
        "colab_type": "text"
      },
      "source": [
        "<a href=\"https://colab.research.google.com/github/vamshitn/Samsung-innovation-campus/blob/main/intro_to_unsupervised_learning_with_kmeans_clustering.ipynb\" target=\"_parent\"><img src=\"https://colab.research.google.com/assets/colab-badge.svg\" alt=\"Open In Colab\"/></a>"
      ]
    },
    {
      "cell_type": "markdown",
      "id": "7c5ba4fe",
      "metadata": {
        "id": "7c5ba4fe"
      },
      "source": [
        "<a name='0'></a>\n",
        "# Intro to Unsupervised Learning - K-Means Clustering"
      ]
    },
    {
      "cell_type": "markdown",
      "id": "a15629b3",
      "metadata": {
        "id": "a15629b3"
      },
      "source": [
        "K-Means clustering is a type of unsupervised learning algorithms. In unsupervised learning, the machine learning model do not get the labels during training. It instead has to figure out the labels itself. It's like learning without instructions. It's like a teacher telling you, \"hey, here are 1000 exercises to use while preparing for a test, the test will be only 5 questions from all of those exercises.\" That can feel like a struggle, you will do all you can to narrow down these 100 exercises to 5. Some questions may be similar, or may be solved by one method, etc..the goal will merely be to narrow down the exercises, while maximizing the chance of passing the test.\n",
        "\n",
        "That type of example can be compared to clustering. The model is given bunch of data (lacking labels) and the job of the model is to find the labels that can be present according to the supplied data.\n",
        "\n",
        "\n",
        "K-Means Clustering require the number of clusters to be specified before training. The way this type of algorithm works is beyond the scope of this notebook but here are 3 main steps of how such algorithm work:\n",
        "\n",
        "* K-Means will randomly assigns samples of data to initial centroids of all clusters. This step is called initialization. A centroid is also referred to as a cluster center and it is the mean of all the sample of data in a cluster.\n",
        "\n",
        "* It then reassigns the samples to the nearest centroids.\n",
        "* It also find the new centroids of all clusters by taking the mean value of all of the samples assigned to each previous centroids.\n",
        "\n",
        "The last two steps are repeated until the stopping criterion is fulfilled or when difference between the old and new centroids is constant.\n",
        "\n",
        "Unspervised learning has got its applications in areas such as grouping web search results, customer segmentation, news aggregation and more."
      ]
    },
    {
      "cell_type": "markdown",
      "id": "d4e2c5a6",
      "metadata": {
        "id": "d4e2c5a6"
      },
      "source": [
        "## KMeans Clustering"
      ]
    },
    {
      "cell_type": "markdown",
      "id": "ae5e8372",
      "metadata": {
        "id": "ae5e8372"
      },
      "source": [
        "### Contents\n",
        "\n",
        "* [1 - Imports](#1)\n",
        "* [2 - Loading the data](#2)\n",
        "* [3 - Exploratory Analysis](#3)\n",
        "* [4 - Preprocessing the data](#4)\n",
        "* [5 - Trainin K-Means Clustering to Find Clusters](#5)\n",
        "* [6 - Evaluating K-Means Clustering](#6)\n",
        "* [7 - Final Notes](#7)"
      ]
    },
    {
      "cell_type": "markdown",
      "id": "99058d12",
      "metadata": {
        "id": "99058d12"
      },
      "source": [
        "<a name='1'></a>\n",
        "## 1 - Imports"
      ]
    },
    {
      "cell_type": "code",
      "execution_count": null,
      "id": "df278c5f",
      "metadata": {
        "id": "df278c5f"
      },
      "outputs": [],
      "source": [
        "import numpy as np\n",
        "import pandas as pd\n",
        "import seaborn as sns\n",
        "import sklearn\n",
        "import matplotlib.pyplot as plt\n",
        "%matplotlib inline"
      ]
    },
    {
      "cell_type": "markdown",
      "id": "35699c38",
      "metadata": {
        "id": "35699c38"
      },
      "source": [
        "<a name='2'></a>\n",
        "\n",
        "## 2 - Loading the data"
      ]
    },
    {
      "cell_type": "markdown",
      "id": "b0c6c4d7",
      "metadata": {
        "id": "b0c6c4d7"
      },
      "source": [
        "In this notebook, we will use a different dataset. Up to this point creating these notebooks, my goal has been to look on the other side, to try something new, to try new a dataset. If you have went through some notebooks about other algorithms, no doubt that you have learned something new or perhaps nothing new but you experienced a new dataset.\n",
        "\n",
        "In this notebook, we will use a mushroom dataset. The dataset describes mushrooms in terms of their physical characteristics and they are classified into: poisonous or edible.\n",
        "\n",
        "The dataset also includes descriptions of hypothetical samples corresponding to 23 species of gilled mushrooms in the Agaricus and Lepiota Family. Each species is identified as definitely edible, definitely poisonous, or of unknown edibility and not recommended. This latter class was combined with the poisonous one. The Guide clearly states that there is no simple rule for determining the edibility of a mushroom; no rule like `leaflets three, let it be for Poisonous Oak and Ivy.`\n",
        "\n",
        "The dataset contains the labels (edibility) but for the purpose of doing clustering, we will remove the labels."
      ]
    },
    {
      "cell_type": "code",
      "execution_count": null,
      "id": "67905ee6",
      "metadata": {
        "id": "67905ee6"
      },
      "outputs": [],
      "source": [
        "# Let's firs hide warnings just in case\n",
        "\n",
        "import warnings\n",
        "warnings.filterwarnings('ignore')"
      ]
    },
    {
      "cell_type": "code",
      "execution_count": null,
      "id": "d3083946",
      "metadata": {
        "id": "d3083946"
      },
      "outputs": [],
      "source": [
        "# from sklearn.datasets import fetch_openml\n",
        "\n",
        "# mushroom_data = fetch_openml(name='mushroom', version=1)"
      ]
    },
    {
      "cell_type": "code",
      "metadata": {
        "id": "4739dd07"
      },
      "source": [
        "# Fallback to downloading the dataset from a URL if fetch_openml fails\n",
        "import requests\n",
        "import io\n",
        "import os\n",
        "import pandas as pd\n",
        "url = \"https://raw.githubusercontent.com/ustunb/risk-slim/refs/heads/master/examples/data/mushroom_data.csv\"\n",
        "# Read the content directly as a CSV file\n",
        "mushroom_data = pd.read_csv(url)"
      ],
      "id": "4739dd07",
      "execution_count": null,
      "outputs": []
    },
    {
      "cell_type": "code",
      "execution_count": null,
      "id": "154ed67e",
      "metadata": {
        "id": "154ed67e"
      },
      "outputs": [],
      "source": [
        "mushroom_data.shape"
      ]
    },
    {
      "cell_type": "markdown",
      "id": "b7a77ea3",
      "metadata": {
        "id": "b7a77ea3"
      },
      "source": [
        "As you can see above, there are 8124 examples and 22 features."
      ]
    },
    {
      "cell_type": "code",
      "execution_count": null,
      "id": "d7180991",
      "metadata": {
        "id": "d7180991"
      },
      "outputs": [],
      "source": [
        "# Displaying feature names\n",
        "\n",
        "mushroom_data.info()"
      ]
    },
    {
      "cell_type": "code",
      "execution_count": null,
      "id": "eab24ee3",
      "metadata": {
        "id": "eab24ee3"
      },
      "outputs": [],
      "source": [
        "# Displaying target name\n",
        "\n",
        "mushroom_data.columns"
      ]
    },
    {
      "cell_type": "markdown",
      "id": "c492fd93",
      "metadata": {
        "id": "c492fd93"
      },
      "source": [
        "<a name='3'></a>\n",
        "## 3 - Exploratory Data Analysis\n"
      ]
    },
    {
      "cell_type": "markdown",
      "id": "c895bd5e",
      "metadata": {
        "id": "c895bd5e"
      },
      "source": [
        "### Taking a quick look into the dataset"
      ]
    },
    {
      "cell_type": "code",
      "execution_count": null,
      "id": "f3eb141e",
      "metadata": {
        "id": "f3eb141e"
      },
      "outputs": [],
      "source": [
        "mushroom_data.head()"
      ]
    },
    {
      "cell_type": "code",
      "execution_count": null,
      "id": "2d70e72a",
      "metadata": {
        "id": "2d70e72a"
      },
      "outputs": [],
      "source": [
        "# Displaying the last rows\n",
        "\n",
        "mushroom_data.tail()"
      ]
    },
    {
      "cell_type": "markdown",
      "id": "1891be01",
      "metadata": {
        "id": "1891be01"
      },
      "source": [
        "All features are categorical. So we will make sure to handle them."
      ]
    },
    {
      "cell_type": "markdown",
      "id": "4de710df",
      "metadata": {
        "id": "4de710df"
      },
      "source": [
        "### Checking Summary Statistics"
      ]
    },
    {
      "cell_type": "code",
      "execution_count": null,
      "id": "753bb539",
      "metadata": {
        "id": "753bb539"
      },
      "outputs": [],
      "source": [
        "# Summary stats\n",
        "\n",
        "mushroom_data.describe()"
      ]
    },
    {
      "cell_type": "markdown",
      "id": "cac1f626",
      "metadata": {
        "id": "cac1f626"
      },
      "source": [
        "### Checking Missing Values"
      ]
    },
    {
      "cell_type": "code",
      "execution_count": null,
      "id": "f0e4fb67",
      "metadata": {
        "id": "f0e4fb67"
      },
      "outputs": [],
      "source": [
        "# Checking missing values\n",
        "\n",
        "mushroom_data.isnull().sum()"
      ]
    },
    {
      "cell_type": "markdown",
      "id": "4977a1a1",
      "metadata": {
        "id": "4977a1a1"
      },
      "source": [
        "It seems that we have missing values in the feature `stalk-root`.\n",
        "\n",
        "Usually there are three things to do with if them if they are present:\n",
        "* We can remove all missing values completely\n",
        "* We can leave them as they are or\n",
        "* We can fill them with a given strategy such as mean, media or most frequent value. Either `Sklearn` or Pandas provides a quick ways to fill these kind of values.\n",
        "\n",
        "We will handle that during the data preprocessing."
      ]
    },
    {
      "cell_type": "markdown",
      "id": "6bb0fe21",
      "metadata": {
        "id": "6bb0fe21"
      },
      "source": [
        "### More Data Exploration\n",
        "\n",
        "Before preprocessing the data, let's take a look into specific features.\n",
        "\n",
        "I want to also make note that I do not know alot about mushrooms. I thought that it would be interesting to use this real world datasets, and perhaps some people who will come across this may some of mushroom samples and their characteristics."
      ]
    },
    {
      "cell_type": "code",
      "execution_count": null,
      "id": "07aa6c1d",
      "metadata": {
        "id": "07aa6c1d"
      },
      "outputs": [],
      "source": [
        "# Identify columns related to cap shape\n",
        "cap_shape_cols = [col for col in mushroom_data.columns if 'cap_shape_eq_' in col]\n",
        "\n",
        "# Sum the one-hot encoded columns to get counts for each cap shape\n",
        "cap_shape_counts = mushroom_data[cap_shape_cols].sum().reset_index()\n",
        "cap_shape_counts.columns = ['cap_shape', 'count']\n",
        "\n",
        "# Extract the actual cap shape name from the column name\n",
        "cap_shape_counts['cap_shape'] = cap_shape_counts['cap_shape'].str.replace('cap_shape_eq_', '')\n",
        "\n",
        "plt.figure(figsize=(12,7))\n",
        "sns.barplot(data=cap_shape_counts, x='cap_shape', y='count')\n",
        "plt.title('Distribution of Mushroom Cap Shapes')\n",
        "plt.xlabel('Cap Shape')\n",
        "plt.ylabel('Count')\n",
        "plt.show()"
      ]
    },
    {
      "cell_type": "markdown",
      "id": "ba18317d",
      "metadata": {
        "id": "ba18317d"
      },
      "source": [
        "In cap_shape, the letters stands for: `ell=b,conical=c,convex=x,flat=f, knobbed=k,sunken=s`. It seems that the convex type is dominant and most of it are edible."
      ]
    },
    {
      "cell_type": "code",
      "execution_count": null,
      "id": "2b2f8e6e",
      "metadata": {
        "id": "2b2f8e6e"
      },
      "outputs": [],
      "source": [
        "# Identify columns related to cap color and the poisonous column\n",
        "cap_color_cols = [col for col in mushroom_data.columns if 'cap_color_eq_' in col]\n",
        "poisonous_col = 'poisonous'\n",
        "\n",
        "# Combine the cap color columns and the poisonous column\n",
        "cap_color_data = mushroom_data[cap_color_cols + [poisonous_col]]\n",
        "\n",
        "# Melt the DataFrame to long format to easily plot the distribution of cap colors by poisonous status\n",
        "cap_color_melted = cap_color_data.melt(id_vars=[poisonous_col], var_name='cap_color', value_name='is_present')\n",
        "\n",
        "# Filter out rows where the cap color is not present for a given mushroom\n",
        "cap_color_melted = cap_color_melted[cap_color_melted['is_present'] == 1]\n",
        "\n",
        "# Extract the actual cap color name from the column name\n",
        "cap_color_melted['cap_color'] = cap_color_melted['cap_color'].str.replace('cap_color_eq_', '')\n",
        "\n",
        "plt.figure(figsize=(15, 8))\n",
        "sns.countplot(data=cap_color_melted, x='cap_color', hue=poisonous_col)\n",
        "plt.title('Distribution of Mushroom Cap Colors by Poisonous Status')\n",
        "plt.xlabel('Cap Color')\n",
        "plt.ylabel('Count')\n",
        "plt.xticks(rotation=45, ha='right')\n",
        "plt.tight_layout()\n",
        "plt.show()"
      ]
    },
    {
      "cell_type": "markdown",
      "id": "884b9f13",
      "metadata": {
        "id": "884b9f13"
      },
      "source": [
        "The above is the cap color. The alphabets stands for `brown=n,buff=b,cinnamon=c,gray=g,green=r,pink=p,purple=u,red=e,white=w,yellow=y `.\n",
        "\n",
        "Also it seems that most caps are brown(n), either edible or brown."
      ]
    },
    {
      "cell_type": "code",
      "execution_count": null,
      "id": "b7c788ca",
      "metadata": {
        "id": "b7c788ca"
      },
      "outputs": [],
      "source": [
        "# Identify columns related to population\n",
        "population_cols = [col for col in mushroom_data.columns if 'population_eq_' in col]\n",
        "\n",
        "# Sum the one-hot encoded columns to get counts for each population type\n",
        "population_counts = mushroom_data[population_cols].sum().reset_index()\n",
        "population_counts.columns = ['population', 'count']\n",
        "\n",
        "# Extract the actual population type name from the column name\n",
        "population_counts['population'] = population_counts['population'].str.replace('population_eq_', '')\n",
        "\n",
        "plt.figure(figsize=(12,7))\n",
        "sns.barplot(data=population_counts, x='population', y='count')\n",
        "plt.title('Distribution of Mushroom Population Types')\n",
        "plt.xlabel('Population Type')\n",
        "plt.ylabel('Count')\n",
        "plt.show()"
      ]
    },
    {
      "cell_type": "markdown",
      "id": "8988d4ce",
      "metadata": {
        "id": "8988d4ce"
      },
      "source": [
        "The most populations are most several. Here are what the letters stand for: `abundant=a,clustered=c,numerous=n, scattered=s,several=v,solitary=y`.  "
      ]
    },
    {
      "cell_type": "code",
      "execution_count": null,
      "id": "4820e0ed",
      "metadata": {
        "id": "4820e0ed"
      },
      "outputs": [],
      "source": [
        "# Identify columns related to habitat\n",
        "habitat_cols = [col for col in mushroom_data.columns if 'habitat_eq_' in col]\n",
        "\n",
        "# Sum the one-hot encoded columns to get counts for each habitat type\n",
        "habitat_counts = mushroom_data[habitat_cols].sum().reset_index()\n",
        "habitat_counts.columns = ['habitat', 'count']\n",
        "\n",
        "# Extract the actual habitat type name from the column name\n",
        "habitat_counts['habitat'] = habitat_counts['habitat'].str.replace('habitat_eq_', '')\n",
        "\n",
        "plt.figure(figsize=(12,7))\n",
        "sns.barplot(data=habitat_counts, x='habitat', y='count')\n",
        "plt.title('Distribution of Mushroom Habitat Types')\n",
        "plt.xlabel('Habitat Type')\n",
        "plt.ylabel('Count')\n",
        "plt.show()"
      ]
    },
    {
      "cell_type": "code",
      "execution_count": null,
      "id": "740b3356",
      "metadata": {
        "id": "740b3356"
      },
      "outputs": [],
      "source": [
        "# Identify columns related to stalk root\n",
        "stalk_root_cols = [col for col in mushroom_data.columns if 'stalk_root_eq_' in col]\n",
        "\n",
        "# Sum the one-hot encoded columns to get counts for each stalk root type\n",
        "stalk_root_counts = mushroom_data[stalk_root_cols].sum().reset_index()\n",
        "stalk_root_counts.columns = ['stalk_root', 'count']\n",
        "\n",
        "# Extract the actual stalk root type name from the column name\n",
        "stalk_root_counts['stalk_root'] = stalk_root_counts['stalk_root'].str.replace('stalk_root_eq_', '')\n",
        "\n",
        "plt.figure(figsize=(12,7))\n",
        "sns.barplot(data=stalk_root_counts, x='stalk_root', y='count')\n",
        "plt.title('Distribution of Mushroom Stalk Root Types')\n",
        "plt.xlabel('Stalk Root Type')\n",
        "plt.ylabel('Count')\n",
        "plt.show()"
      ]
    },
    {
      "cell_type": "markdown",
      "id": "9c778994",
      "metadata": {
        "id": "9c778994"
      },
      "source": [
        "Above is the feature that is missing values. We will remove all missing values. Since the missing values are of one category, we will drop it to avoid adding noise in the dataset."
      ]
    },
    {
      "cell_type": "markdown",
      "id": "bed27ebd",
      "metadata": {
        "id": "bed27ebd"
      },
      "source": [
        "And finally, we can look in the class feature. There are two categories, `e(edible)` and `p(poisonous)`."
      ]
    },
    {
      "cell_type": "code",
      "execution_count": null,
      "id": "3c59437e",
      "metadata": {
        "id": "3c59437e"
      },
      "outputs": [],
      "source": [
        "plt.figure(figsize=(12,7))\n",
        "\n",
        "sns.countplot(data=mushroom_data, x='poisonous')"
      ]
    },
    {
      "cell_type": "markdown",
      "id": "e6733727",
      "metadata": {
        "id": "e6733727"
      },
      "source": [
        "<a name='4'></a>\n",
        "\n",
        "## 4 - Data Preprocessing\n"
      ]
    },
    {
      "cell_type": "markdown",
      "id": "f6d484c5",
      "metadata": {
        "id": "f6d484c5"
      },
      "source": [
        "Let's remove the missing values first."
      ]
    },
    {
      "cell_type": "code",
      "execution_count": null,
      "id": "277d9129",
      "metadata": {
        "id": "277d9129"
      },
      "outputs": [],
      "source": [
        "mushroom_df = mushroom_data.dropna()"
      ]
    },
    {
      "cell_type": "markdown",
      "id": "e9906083",
      "metadata": {
        "id": "e9906083"
      },
      "source": [
        "For the purpose of performing clustering, we will remove the labels."
      ]
    },
    {
      "cell_type": "code",
      "source": [
        "mushroom_df.columns"
      ],
      "metadata": {
        "id": "N6TxVm7OkXae"
      },
      "id": "N6TxVm7OkXae",
      "execution_count": null,
      "outputs": []
    },
    {
      "cell_type": "code",
      "source": [
        "mushroom_data['poisonous'].value_counts()"
      ],
      "metadata": {
        "id": "m-ks2Wc-ksqk"
      },
      "id": "m-ks2Wc-ksqk",
      "execution_count": null,
      "outputs": []
    },
    {
      "cell_type": "code",
      "execution_count": null,
      "id": "98d74144",
      "metadata": {
        "id": "98d74144"
      },
      "outputs": [],
      "source": [
        "mushroom = mushroom_df.drop('poisonous', axis=1)\n",
        "mushroom_labels = mushroom_df['poisonous']"
      ]
    },
    {
      "cell_type": "markdown",
      "id": "1786056c",
      "metadata": {
        "id": "1786056c"
      },
      "source": [
        "Let's now convert all categorical features into the numerics."
      ]
    },
    {
      "cell_type": "code",
      "execution_count": null,
      "id": "b7ee6d06",
      "metadata": {
        "id": "b7ee6d06"
      },
      "outputs": [],
      "source": [
        "from sklearn.preprocessing import OrdinalEncoder\n",
        "\n",
        "encoder = OrdinalEncoder()\n",
        "\n",
        "mushroom_prepared = encoder.fit_transform(mushroom)"
      ]
    },
    {
      "cell_type": "code",
      "execution_count": null,
      "id": "805385b4",
      "metadata": {
        "id": "805385b4"
      },
      "outputs": [],
      "source": [
        "mushroom_prepared"
      ]
    },
    {
      "cell_type": "markdown",
      "id": "b85b688e",
      "metadata": {
        "id": "b85b688e"
      },
      "source": [
        "As you can see above, `mushroom_prepared` is a NumPy array. We can convert it back to the Pandas Dataframe although KMeans algorithm can accept both as input."
      ]
    },
    {
      "cell_type": "code",
      "execution_count": null,
      "id": "8ea82660",
      "metadata": {
        "id": "8ea82660"
      },
      "outputs": [],
      "source": [
        "mushroom_prep_df = pd.DataFrame(mushroom_prepared, columns=mushroom.columns)\n",
        "mushroom_prep_df.head()"
      ]
    },
    {
      "cell_type": "markdown",
      "id": "bda280c6",
      "metadata": {
        "id": "bda280c6"
      },
      "source": [
        "No alphabets anymore. They were perfectly encoded or converted to numerics representation."
      ]
    },
    {
      "cell_type": "markdown",
      "id": "d134d334",
      "metadata": {
        "id": "d134d334"
      },
      "source": [
        "We are now ready to find the labels with KMeans Clustering. Again, this is for the assumption that we do not have labels, or to make it simple, we have a data about the characteristics of different plants, but we do not know if they are edible or not. We want to use unsupervised learning to figure that out."
      ]
    },
    {
      "cell_type": "markdown",
      "id": "dd496de6",
      "metadata": {
        "id": "dd496de6"
      },
      "source": [
        "<a name='5'></a>\n",
        "\n",
        "## 5 - Training K-Means Clustering to Find Clusters"
      ]
    },
    {
      "cell_type": "markdown",
      "id": "e28b943f",
      "metadata": {
        "id": "e28b943f"
      },
      "source": [
        "We are going to create a KMeans model from `sklearn.cluster`. We will remember to provide the number of the clusters, which is 2 in our case."
      ]
    },
    {
      "cell_type": "code",
      "execution_count": null,
      "id": "d46bdcef",
      "metadata": {
        "id": "d46bdcef"
      },
      "outputs": [],
      "source": [
        "from sklearn.cluster import KMeans\n",
        "\n",
        "k_clust = KMeans(n_clusters=2, random_state=42)\n",
        "\n",
        "k_clust.fit(mushroom_prep_df)"
      ]
    },
    {
      "cell_type": "markdown",
      "id": "d8d0f2a7",
      "metadata": {
        "id": "d8d0f2a7"
      },
      "source": [
        "We can access the cluster centers by `model.cluster_centers_`."
      ]
    },
    {
      "cell_type": "code",
      "execution_count": null,
      "id": "23a25b60",
      "metadata": {
        "id": "23a25b60"
      },
      "outputs": [],
      "source": [
        "k_clust.cluster_centers_"
      ]
    },
    {
      "cell_type": "markdown",
      "id": "a81504c9",
      "metadata": {
        "id": "a81504c9"
      },
      "source": [
        "Also, we can get the labels that the KMeans provided for each data point."
      ]
    },
    {
      "cell_type": "code",
      "execution_count": null,
      "id": "1c7dd9fa",
      "metadata": {
        "id": "1c7dd9fa"
      },
      "outputs": [],
      "source": [
        "k_labels = k_clust.labels_\n",
        "k_labels"
      ]
    },
    {
      "cell_type": "markdown",
      "id": "b78a88c4",
      "metadata": {
        "id": "b78a88c4"
      },
      "source": [
        "<a name='6'></a>\n",
        "\n",
        "### 6 -Evaluating K-Means Clustering"
      ]
    },
    {
      "cell_type": "markdown",
      "id": "8c0cc81c",
      "metadata": {
        "id": "8c0cc81c"
      },
      "source": [
        "In real world, evaluating the performance of KMeans is not an easy thing, because there are not true labels to compare with the clustered labels. In our case since we have them, we can find things like accuracy score, or even find the confusion matrix to display the actual and predicted classes. Not to mention classification report to find things like Recall, Precision, or F1 Score.\n",
        "\n",
        "But again since we are merely comparing the labels(true and clustered), we do not need that extra metrics.\n",
        "\n",
        "Before finding the accuracy score, I will first convert the true labels into the numbers or encode them. For simplicity, I will use a map function."
      ]
    },
    {
      "cell_type": "code",
      "execution_count": null,
      "id": "312bdbb1",
      "metadata": {
        "id": "312bdbb1"
      },
      "outputs": [],
      "source": [
        "from sklearn.metrics import accuracy_score\n",
        "\n",
        "accuracy_score(mushroom_labels, k_labels)"
      ]
    },
    {
      "cell_type": "markdown",
      "id": "5f708da8",
      "metadata": {
        "id": "5f708da8"
      },
      "source": [
        "This is not excellent, but it's so impressive. Why? Well, KMeans never saw the labels, it was only feed the data of different characteristics of poisonous and edible mushrooms and its job was to try to find patterns in the data so as to learn if a given mushroom specy is a poisonous or edible.\n",
        "\n",
        "\n",
        "KMeans algorithm is very useful in areas where you have a bunch of unlabeled data. Take an example in customer segmentation. You may want to provide different promotions to some groups of your customers but you have no clue of who would benefit from that particular promotion. So, you can try to find the group of customers using this algorithm. It will try to group similar customers according to their interests, and will likely appreciate the promotion.\n",
        "\n",
        "The same concept can be applied to grouping the equipments that has similar defects in an industry. That was just mentioning few, there are more applications of KMeans clustering."
      ]
    },
    {
      "cell_type": "markdown",
      "id": "c1b8979e",
      "metadata": {
        "id": "c1b8979e"
      },
      "source": [
        "<a name='7'></a>\n",
        "\n",
        "### 7 - Final Notes\n",
        "\n",
        "In this notebook, we learned the idea behind unsupervised learning and KMeans clustering. We also practiced that on mushroom dataset where we were interested in grouping the species that can be poisonous or edible.\n",
        "\n",
        "If you like mushrooms and you know some of their characteristics, no doubt that you enjoyed this notebook. Maybe pick one edible sample and make it your next meal :)"
      ]
    }
  ],
  "metadata": {
    "kernelspec": {
      "display_name": "Python 3.7.10 64-bit ('tensor': conda)",
      "language": "python",
      "name": "python3710jvsc74a57bd034ac5db714c5906ee087fcf6e2d00ee4febf096586592b6ba3662ed3b7e7a5f6"
    },
    "language_info": {
      "codemirror_mode": {
        "name": "ipython",
        "version": 3
      },
      "file_extension": ".py",
      "mimetype": "text/x-python",
      "name": "python",
      "nbconvert_exporter": "python",
      "pygments_lexer": "ipython3",
      "version": "3.7.10"
    },
    "colab": {
      "provenance": [],
      "include_colab_link": true
    }
  },
  "nbformat": 4,
  "nbformat_minor": 5
}