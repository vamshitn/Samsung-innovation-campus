{
  "nbformat": 4,
  "nbformat_minor": 0,
  "metadata": {
    "colab": {
      "provenance": [],
      "include_colab_link": true
    },
    "kernelspec": {
      "name": "python3",
      "display_name": "Python 3"
    },
    "language_info": {
      "name": "python"
    }
  },
  "cells": [
    {
      "cell_type": "markdown",
      "metadata": {
        "id": "view-in-github",
        "colab_type": "text"
      },
      "source": [
        "<a href=\"https://colab.research.google.com/github/vamshitn/Samsung-innovation-campus/blob/main/KNN_%26_SVM(garbage).ipynb\" target=\"_parent\"><img src=\"https://colab.research.google.com/assets/colab-badge.svg\" alt=\"Open In Colab\"/></a>"
      ]
    },
    {
      "cell_type": "code",
      "execution_count": 24,
      "metadata": {
        "id": "56JWEjz62f6N"
      },
      "outputs": [],
      "source": [
        "import time\n",
        "import pandas as pd\n",
        "from sklearn.model_selection import train_test_split\n",
        "from sklearn.preprocessing import StandardScaler\n",
        "from sklearn.neighbors import KNeighborsClassifier\n",
        "from sklearn.svm import SVC\n",
        "from sklearn.metrics import accuracy_score, roc_auc_score, classification_report"
      ]
    },
    {
      "cell_type": "code",
      "source": [
        "try:\n",
        "    # Load your dataset\n",
        "    garbage_df = pd.read_csv(\"garbage.csv\")\n",
        "    print(\"Dataset loaded successfully!\")\n",
        "    print(garbage_df.head())  # Show first few rows\n",
        "except FileNotFoundError:\n",
        "    print(\"Error: garbage.csv not found. Please make sure the file is in the correct directory.\")\n",
        "    raise\n",
        "except Exception as e:\n",
        "    print(f\"An error occurred: {e}\")\n",
        "    raise"
      ],
      "metadata": {
        "id": "fKVa2_xu37Bu",
        "colab": {
          "base_uri": "https://localhost:8080/"
        },
        "outputId": "1010557a-a05f-4be2-9f2f-cdec68f1d48d"
      },
      "execution_count": 25,
      "outputs": [
        {
          "output_type": "stream",
          "name": "stdout",
          "text": [
            "Dataset loaded successfully!\n",
            "   Unnamed: 0  weight   volume  moisture_content  organic_content  \\\n",
            "0           0  288.20  1166.79             40.05             1.73   \n",
            "1           1  220.01  1267.74             41.09            56.69   \n",
            "2           2  248.94   873.31             10.33            63.33   \n",
            "3           3  312.04  1031.41             51.91            12.54   \n",
            "4           4  293.38  1068.42              9.68            61.05   \n",
            "\n",
            "         source waste_type  label  \n",
            "0     household      metal      0  \n",
            "1     household      paper      0  \n",
            "2  agricultural      paper      0  \n",
            "3  agricultural      metal      0  \n",
            "4  agricultural      paper      0  \n"
          ]
        }
      ]
    },
    {
      "cell_type": "code",
      "source": [
        "# Select features (X) and target (y)\n",
        "# Exclude 'Unnamed: 0' as it seems to be an index column\n",
        "X = garbage_df.drop(['Unnamed: 0', 'label'], axis=1)\n",
        "y = garbage_df['label']\n",
        "\n",
        "# Identify categorical and numerical columns\n",
        "categorical_cols = X.select_dtypes(include=['object']).columns\n",
        "numerical_cols = X.select_dtypes(include=['number']).columns\n",
        "\n",
        "# Apply one-hot encoding to categorical columns\n",
        "X = pd.get_dummies(X, columns=categorical_cols, drop_first=True)\n",
        "\n",
        "# Now X contains only numerical data\n",
        "X = X.values # Convert DataFrame to numpy array for scikit-learn\n",
        "y = y.values"
      ],
      "metadata": {
        "id": "ScWUeIRL35RG"
      },
      "execution_count": 29,
      "outputs": []
    },
    {
      "cell_type": "code",
      "source": [
        "X_train, X_test, y_train, y_test = train_test_split(\n",
        "    X, y, test_size=0.3, random_state=42, stratify=y\n",
        ")\n"
      ],
      "metadata": {
        "id": "mP2c3Sco30_L"
      },
      "execution_count": 30,
      "outputs": []
    },
    {
      "cell_type": "markdown",
      "source": [
        "#K-Nearest Neighbors (KNN) Classifier\n",
        "KNN is a simple, instance-based learning algorithm that classifies new data points based on the majority class of its nearest neighbors. The performance is heavily influenced by the choice of 'k' (number of neighbors). For this example, we'll use a k of 5, which is a common starting point."
      ],
      "metadata": {
        "id": "1XAUXFE12uZW"
      }
    },
    {
      "cell_type": "code",
      "source": [
        "scaler = StandardScaler()\n",
        "X_train_scaled = scaler.fit_transform(X_train)\n",
        "X_test_scaled = scaler.transform(X_test)"
      ],
      "metadata": {
        "id": "PkxCfABn2rGR"
      },
      "execution_count": 31,
      "outputs": []
    },
    {
      "cell_type": "code",
      "source": [
        "start_time_knn = time.time()\n",
        "\n",
        "knn_model = KNeighborsClassifier(n_neighbors=5)\n",
        "knn_model.fit(X_train_scaled, y_train)\n",
        "\n",
        "end_time_knn = time.time()"
      ],
      "metadata": {
        "id": "PblCTZm83uC0"
      },
      "execution_count": 32,
      "outputs": []
    },
    {
      "cell_type": "code",
      "source": [
        "accuracy_knn = accuracy_score(y_test, y_pred_knn)\n",
        "roc_auc_knn = roc_auc_score(y_test, y_pred_knn, multi_class=\"ovr\") if len(set(y)) > 2 else roc_auc_score(y_test, y_pred_knn)\n",
        "training_time_knn = end_time_knn - start_time_knn"
      ],
      "metadata": {
        "id": "DG9nEP4F3pdt"
      },
      "execution_count": 34,
      "outputs": []
    },
    {
      "cell_type": "markdown",
      "source": [
        "#Support Vector Machine (SVM) Classifier\n",
        "SVM is a powerful algorithm that finds the optimal hyperplane to separate different classes. The SVC (Support Vector Classifier) in scikit-learn is a versatile implementation that can use different kernels, such as the rbf (Radial Basis Function) kernel for non-linear decision boundaries."
      ],
      "metadata": {
        "id": "YhmCGPlm22dD"
      }
    },
    {
      "cell_type": "code",
      "source": [
        "print(\"=== K-Nearest Neighbors (KNN) ===\")\n",
        "print(f\"Accuracy: {accuracy_knn:.4f}\")\n",
        "print(f\"ROC AUC Score: {roc_auc_knn:.4f}\")\n",
        "print(f\"Training Time: {training_time_knn:.4f} seconds\")\n",
        "print(\"\\nClassification Report:\")\n",
        "print(classification_report(y_test, y_pred_knn))"
      ],
      "metadata": {
        "id": "3LLokmc52y0L",
        "colab": {
          "base_uri": "https://localhost:8080/"
        },
        "outputId": "fc3d7b25-447a-47f0-d971-3c2c7e7d83ae"
      },
      "execution_count": 35,
      "outputs": [
        {
          "output_type": "stream",
          "name": "stdout",
          "text": [
            "=== K-Nearest Neighbors (KNN) ===\n",
            "Accuracy: 0.8833\n",
            "ROC AUC Score: 0.8289\n",
            "Training Time: 0.0080 seconds\n",
            "\n",
            "Classification Report:\n",
            "              precision    recall  f1-score   support\n",
            "\n",
            "           0       0.91      0.94      0.92       225\n",
            "           1       0.79      0.72      0.76        75\n",
            "\n",
            "    accuracy                           0.88       300\n",
            "   macro avg       0.85      0.83      0.84       300\n",
            "weighted avg       0.88      0.88      0.88       300\n",
            "\n"
          ]
        }
      ]
    },
    {
      "cell_type": "code",
      "source": [
        "start_time_svm = time.time()\n",
        "\n",
        "svm_model = SVC(kernel='rbf', C=1.0, gamma='scale', random_state=42)\n",
        "svm_model.fit(X_train_scaled, y_train)\n",
        "\n",
        "end_time_svm = time.time()\n",
        "\n",
        "# Predictions\n",
        "y_pred_svm = svm_model.predict(X_test_scaled)\n",
        "\n",
        "# Metrics\n",
        "accuracy_svm = accuracy_score(y_test, y_pred_svm)\n",
        "roc_auc_svm = roc_auc_score(y_test, y_pred_svm, multi_class=\"ovr\") if len(set(y)) > 2 else roc_auc_score(y_test, y_pred_svm)\n",
        "training_time_svm = end_time_svm - start_time_svm\n",
        "\n",
        "print(\"\\n=== Support Vector Machine (SVM) ===\")\n",
        "print(f\"Accuracy: {accuracy_svm:.4f}\")\n",
        "print(f\"ROC AUC Score: {roc_auc_svm:.4f}\")\n",
        "print(f\"Training Time: {training_time_svm:.4f} seconds\")\n",
        "print(\"\\nClassification Report:\")\n",
        "print(classification_report(y_test, y_pred_svm))"
      ],
      "metadata": {
        "id": "nZzTBJDt3Vrd",
        "colab": {
          "base_uri": "https://localhost:8080/"
        },
        "outputId": "139f7cff-b525-494f-8588-2390e2d6a41d"
      },
      "execution_count": 36,
      "outputs": [
        {
          "output_type": "stream",
          "name": "stdout",
          "text": [
            "\n",
            "=== Support Vector Machine (SVM) ===\n",
            "Accuracy: 0.9267\n",
            "ROC AUC Score: 0.8978\n",
            "Training Time: 0.0433 seconds\n",
            "\n",
            "Classification Report:\n",
            "              precision    recall  f1-score   support\n",
            "\n",
            "           0       0.95      0.96      0.95       225\n",
            "           1       0.86      0.84      0.85        75\n",
            "\n",
            "    accuracy                           0.93       300\n",
            "   macro avg       0.91      0.90      0.90       300\n",
            "weighted avg       0.93      0.93      0.93       300\n",
            "\n"
          ]
        }
      ]
    },
    {
      "cell_type": "code",
      "source": [
        ""
      ],
      "metadata": {
        "id": "9VRxBvTg3b54"
      },
      "execution_count": 36,
      "outputs": []
    },
    {
      "cell_type": "markdown",
      "source": [
        "When you run this code, you will likely see that both KNN and SVM achieve very high accuracy on this dataset. SVM, in particular, often performs exceptionally well because it's effective at finding a clear decision boundary even in high-dimensional space. While KNN is simple to implement, its performance can be more sensitive to the choice of 'k' and the distance metric."
      ],
      "metadata": {
        "id": "deKumJJT2-KL"
      }
    },
    {
      "cell_type": "code",
      "source": [],
      "metadata": {
        "id": "OkhJWhSV26y4"
      },
      "execution_count": 10,
      "outputs": []
    },
    {
      "cell_type": "code",
      "metadata": {
        "id": "8ae6be76"
      },
      "source": [
        ""
      ],
      "execution_count": 23,
      "outputs": []
    }
  ]
}