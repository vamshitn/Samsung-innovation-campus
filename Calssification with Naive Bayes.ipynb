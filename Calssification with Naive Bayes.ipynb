{
  "cells": [
    {
      "cell_type": "markdown",
      "metadata": {
        "id": "view-in-github",
        "colab_type": "text"
      },
      "source": [
        "<a href=\"https://colab.research.google.com/github/vamshitn/Samsung-innovation-campus/blob/main/Calssification%20with%20Naive%20Bayes.ipynb\" target=\"_parent\"><img src=\"https://colab.research.google.com/assets/colab-badge.svg\" alt=\"Open In Colab\"/></a>"
      ]
    },
    {
      "cell_type": "markdown",
      "metadata": {
        "id": "XssISLNtGI4x"
      },
      "source": [
        "## Coding Exercise #0502"
      ]
    },
    {
      "cell_type": "markdown",
      "metadata": {
        "id": "DqSvKSFUGI4x"
      },
      "source": [
        "### 1. Calssification with Naive Bayes:"
      ]
    },
    {
      "cell_type": "code",
      "execution_count": null,
      "metadata": {
        "id": "neifzxrQGI4y"
      },
      "outputs": [],
      "source": [
        "import numpy as np\n",
        "import pandas as pd\n",
        "import matplotlib.pyplot as plt\n",
        "import seaborn as sns\n",
        "import scipy.stats as st\n",
        "from sklearn.datasets import load_iris\n",
        "from sklearn.model_selection import train_test_split\n",
        "from sklearn.naive_bayes import GaussianNB\n",
        "from sklearn import metrics\n",
        "%matplotlib inline"
      ]
    },
    {
      "cell_type": "markdown",
      "metadata": {
        "id": "FBjG2HEfGI4y"
      },
      "source": [
        "#### 1.1. Read in data and explore:"
      ]
    },
    {
      "cell_type": "code",
      "execution_count": null,
      "metadata": {
        "id": "paFCBrzAGI4y"
      },
      "outputs": [],
      "source": [
        "# Load data.\n",
        "data = load_iris()"
      ]
    },
    {
      "cell_type": "code",
      "execution_count": null,
      "metadata": {
        "id": "mOfIkYaHGI4z"
      },
      "outputs": [],
      "source": [
        "# Display the description.\n",
        "print(data.DESCR)"
      ]
    },
    {
      "cell_type": "code",
      "execution_count": null,
      "metadata": {
        "id": "FX3dwH4aGI4z"
      },
      "outputs": [],
      "source": [
        "# Explanatory variables.\n",
        "X = data['data']\n",
        "columns = list(data['feature_names'])\n",
        "print(columns)"
      ]
    },
    {
      "cell_type": "code",
      "execution_count": null,
      "metadata": {
        "id": "2FetQljRGI4z"
      },
      "outputs": [],
      "source": [
        "# Response variable.\n",
        "Y = data['target']\n",
        "labels = list(data['target_names'])\n",
        "print(labels)"
      ]
    },
    {
      "cell_type": "code",
      "execution_count": null,
      "metadata": {
        "id": "2KvsGSxDGI4z"
      },
      "outputs": [],
      "source": [
        "# Visualize the frequency table.\n",
        "ser = pd.Series(Y)\n",
        "table = ser.value_counts()\n",
        "table = table.sort_index()                                         # Has to be sorted for correct labeling.\n",
        "sns.barplot(labels,table.values)\n",
        "plt.show()"
      ]
    },
    {
      "cell_type": "code",
      "execution_count": null,
      "metadata": {
        "id": "-IJ2bGTkGI4z"
      },
      "outputs": [],
      "source": [
        "# Array of Scatter plots.\n",
        "X_df = pd.DataFrame(X,columns=['Sepal_L','Sepal_W','Petal_L','Petal_W'])\n",
        "my_cols_dict = {0:'red', 1:'green', 2:'blue'}\n",
        "my_cols = pd.Series(Y).apply(lambda x: my_cols_dict[x])\n",
        "pd.plotting.scatter_matrix(X_df, c=my_cols, marker='o', alpha=0.5)\n",
        "plt.show()"
      ]
    },
    {
      "cell_type": "markdown",
      "metadata": {
        "id": "mua1zwCDGI40"
      },
      "source": [
        "#### 1.2. Naive Bayes train and test:"
      ]
    },
    {
      "cell_type": "code",
      "execution_count": null,
      "metadata": {
        "id": "c6o1tRnPGI40"
      },
      "outputs": [],
      "source": [
        "# Split the dataset into training and testing.\n",
        "X_train, X_test, Y_train, Y_test = train_test_split(X, Y, test_size=0.3, random_state=1234)"
      ]
    },
    {
      "cell_type": "code",
      "execution_count": null,
      "metadata": {
        "id": "tFUA-NsZGI40"
      },
      "outputs": [],
      "source": [
        "print(X_train.shape)\n",
        "print(X_test.shape)\n",
        "print(Y_train.shape)\n",
        "print(Y_test.shape)"
      ]
    },
    {
      "cell_type": "code",
      "execution_count": null,
      "metadata": {
        "id": "KfwwGEomGI40"
      },
      "outputs": [],
      "source": [
        "# Train and predict.\n",
        "GNB = GaussianNB()\n",
        "GNB.fit(X_train,Y_train)\n",
        "Y_pred_test = GNB.predict(X_test)"
      ]
    },
    {
      "cell_type": "code",
      "execution_count": null,
      "metadata": {
        "id": "jRMMrXxTGI40"
      },
      "outputs": [],
      "source": [
        "# Confusion matrix.\n",
        "conf_mat = metrics.confusion_matrix(Y_test, Y_pred_test)\n",
        "print(conf_mat)"
      ]
    },
    {
      "cell_type": "code",
      "execution_count": null,
      "metadata": {
        "id": "neZ-wWjGGI40"
      },
      "outputs": [],
      "source": [
        "# Accuracy.\n",
        "accuracy = metrics.accuracy_score(Y_test, Y_pred_test)\n",
        "print('Accuracy    = ' + str(np.round(accuracy,3)))"
      ]
    },
    {
      "cell_type": "markdown",
      "metadata": {
        "id": "PG7DIob5GI40"
      },
      "source": [
        "#### 1.3. Visualize the posterior probabilities:"
      ]
    },
    {
      "cell_type": "code",
      "execution_count": null,
      "metadata": {
        "id": "DUMIRmRCGI40"
      },
      "outputs": [],
      "source": [
        "centers = GNB.theta_\n",
        "variances = GNB.sigma_"
      ]
    },
    {
      "cell_type": "code",
      "execution_count": null,
      "metadata": {
        "id": "LaaV_7ygGI40"
      },
      "outputs": [],
      "source": [
        "for i in range(4):\n",
        "    x_min = X[:,i].min()\n",
        "    x_max = X[:,i].max()\n",
        "    x_range = x_max-x_min\n",
        "    x_grid = np.linspace(x_min-x_range/3,x_max+x_range/3,300)\n",
        "    fig=plt.figure(figsize=(4,2), dpi=100)      # Width, height and DPI setting.\n",
        "    ax = fig.add_axes([0,0,1,1])                # Left, bottom, width, height.\n",
        "    ax.set_xlabel(columns[i])\n",
        "    ax.set_ylabel('Probability')\n",
        "    for j in range(3):\n",
        "        center = centers[j,i]\n",
        "        sigma = np.sqrt(variances[j,i])\n",
        "        ax.plot(x_grid, st.norm.pdf(x_grid,loc=center,scale=sigma),color=my_cols_dict[j],linestyle=\"--\",label=labels[j])\n",
        "    ax.legend(loc=0)\n",
        "    plt.show()"
      ]
    },
    {
      "cell_type": "code",
      "execution_count": null,
      "metadata": {
        "id": "8rr9Xj7OGI40"
      },
      "outputs": [],
      "source": []
    }
  ],
  "metadata": {
    "kernelspec": {
      "display_name": "Python 3",
      "language": "python",
      "name": "python3"
    },
    "language_info": {
      "codemirror_mode": {
        "name": "ipython",
        "version": 3
      },
      "file_extension": ".py",
      "mimetype": "text/x-python",
      "name": "python",
      "nbconvert_exporter": "python",
      "pygments_lexer": "ipython3",
      "version": "3.7.3"
    },
    "colab": {
      "provenance": [],
      "include_colab_link": true
    }
  },
  "nbformat": 4,
  "nbformat_minor": 0
}