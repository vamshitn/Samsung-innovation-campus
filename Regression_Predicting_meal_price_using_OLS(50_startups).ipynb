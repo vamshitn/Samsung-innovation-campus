{
  "nbformat": 4,
  "nbformat_minor": 0,
  "metadata": {
    "colab": {
      "provenance": [],
      "include_colab_link": true
    },
    "kernelspec": {
      "name": "python3",
      "display_name": "Python 3"
    },
    "language_info": {
      "name": "python"
    }
  },
  "cells": [
    {
      "cell_type": "markdown",
      "metadata": {
        "id": "view-in-github",
        "colab_type": "text"
      },
      "source": [
        "<a href=\"https://colab.research.google.com/github/vamshitn/Samsung-innovation-campus/blob/main/Regression_Predicting_meal_price_using_OLS(50_startups).ipynb\" target=\"_parent\"><img src=\"https://colab.research.google.com/assets/colab-badge.svg\" alt=\"Open In Colab\"/></a>"
      ]
    },
    {
      "cell_type": "code",
      "source": [
        "from google.colab import drive\n",
        "drive.mount('/content/drive')"
      ],
      "metadata": {
        "id": "NkS9Cva10Cu6",
        "colab": {
          "base_uri": "https://localhost:8080/"
        },
        "outputId": "159730cb-99f8-4fbd-e771-4f024ffe5be7"
      },
      "execution_count": 19,
      "outputs": [
        {
          "output_type": "stream",
          "name": "stdout",
          "text": [
            "Drive already mounted at /content/drive; to attempt to forcibly remount, call drive.mount(\"/content/drive\", force_remount=True).\n"
          ]
        }
      ]
    },
    {
      "cell_type": "code",
      "execution_count": 20,
      "metadata": {
        "id": "HppKbgDGzfwd"
      },
      "outputs": [],
      "source": [
        "import pandas as pd\n",
        "import statsmodels.api as sm"
      ]
    },
    {
      "cell_type": "code",
      "source": [],
      "metadata": {
        "id": "vmSolktuvZPk"
      },
      "execution_count": null,
      "outputs": []
    },
    {
      "cell_type": "code",
      "source": [
        "df = pd.read_csv(\"/content/50_Startups.csv\")"
      ],
      "metadata": {
        "id": "jAMppgDxz_1B"
      },
      "execution_count": 24,
      "outputs": []
    },
    {
      "cell_type": "code",
      "source": [
        "X = df[['R&D Spend', 'Administration', 'Marketing Spend']]"
      ],
      "metadata": {
        "id": "GRkSyC570bta"
      },
      "execution_count": 26,
      "outputs": []
    },
    {
      "cell_type": "code",
      "source": [
        "Y = df['Profit']"
      ],
      "metadata": {
        "id": "OlGa0d-X0gSZ"
      },
      "execution_count": 27,
      "outputs": []
    },
    {
      "cell_type": "code",
      "source": [
        "X = sm.add_constant(X)"
      ],
      "metadata": {
        "id": "JZQ2HhWX0kv_"
      },
      "execution_count": 28,
      "outputs": []
    },
    {
      "cell_type": "code",
      "source": [
        "print(model.summary())"
      ],
      "metadata": {
        "id": "JXlijrfQ0pz8",
        "colab": {
          "base_uri": "https://localhost:8080/"
        },
        "outputId": "ed41c7a6-8bcf-4796-d54c-15e4348fc001"
      },
      "execution_count": 29,
      "outputs": [
        {
          "output_type": "stream",
          "name": "stdout",
          "text": [
            "                            OLS Regression Results                            \n",
            "==============================================================================\n",
            "Dep. Variable:                  Price   R-squared:                       0.323\n",
            "Model:                            OLS   Adj. R-squared:                  0.279\n",
            "Method:                 Least Squares   F-statistic:                     7.392\n",
            "Date:                Thu, 21 Aug 2025   Prob (F-statistic):            0.00237\n",
            "Time:                        04:46:12   Log-Likelihood:                -111.46\n",
            "No. Observations:                  34   AIC:                             228.9\n",
            "Df Residuals:                      31   BIC:                             233.5\n",
            "Df Model:                           2                                         \n",
            "Covariance Type:            nonrobust                                         \n",
            "===================================================================================\n",
            "                      coef    std err          t      P>|t|      [0.025      0.975]\n",
            "-----------------------------------------------------------------------------------\n",
            "const             -24.5782     18.147     -1.354      0.185     -61.589      12.433\n",
            "Food_Quality        3.0272      1.172      2.584      0.015       0.638       5.417\n",
            "Service_Quality     0.2661      0.968      0.275      0.785      -1.709       2.241\n",
            "==============================================================================\n",
            "Omnibus:                        5.779   Durbin-Watson:                   1.820\n",
            "Prob(Omnibus):                  0.056   Jarque-Bera (JB):                4.898\n",
            "Skew:                           0.513   Prob(JB):                       0.0864\n",
            "Kurtosis:                       4.550   Cond. No.                         463.\n",
            "==============================================================================\n",
            "\n",
            "Notes:\n",
            "[1] Standard Errors assume that the covariance matrix of the errors is correctly specified.\n"
          ]
        }
      ]
    },
    {
      "cell_type": "code",
      "source": [
        "print(\"Rainbow test (statistic, p-value):\", sm.stats.linear_rainbow(model))"
      ],
      "metadata": {
        "id": "9DUwkVTU1jvE",
        "colab": {
          "base_uri": "https://localhost:8080/"
        },
        "outputId": "11e2394f-d2c9-4733-bfe9-dcd62bad0037"
      },
      "execution_count": 30,
      "outputs": [
        {
          "output_type": "stream",
          "name": "stdout",
          "text": [
            "Rainbow test (statistic, p-value): (np.float64(3.7866971952540425), np.float64(0.0077876182464610465))\n"
          ]
        }
      ]
    },
    {
      "cell_type": "code",
      "source": [
        "print(\"\\nModel Parameters:\\n\", model.params)\n",
        "\n",
        "# R² value\n",
        "print(\"\\nR-squared:\", model.rsquared)\n",
        "\n",
        "# Dataset columns (just to confirm again)\n",
        "print(\"\\nDataset columns:\", df.columns.tolist())"
      ],
      "metadata": {
        "id": "Y2vljdgL2Xol",
        "colab": {
          "base_uri": "https://localhost:8080/"
        },
        "outputId": "77e44cdb-79c1-4fb9-a876-6c1455ebb4e8"
      },
      "execution_count": 31,
      "outputs": [
        {
          "output_type": "stream",
          "name": "stdout",
          "text": [
            "\n",
            "Model Parameters:\n",
            " const             -24.578212\n",
            "Food_Quality        3.027235\n",
            "Service_Quality     0.266061\n",
            "dtype: float64\n",
            "\n",
            "R-squared: 0.322919793241206\n",
            "\n",
            "Dataset columns: ['R&D Spend', 'Administration', 'Marketing Spend', 'State', 'Profit']\n"
          ]
        }
      ]
    },
    {
      "cell_type": "markdown",
      "source": [
        "Second Model"
      ],
      "metadata": {
        "id": "Y0kMyjYtVuSW"
      }
    },
    {
      "cell_type": "code",
      "source": [
        "X2 = df['R&D Spend']\n",
        "\n",
        "# Dependent variable (like Price in your code)\n",
        "Y2 = df['Profit']"
      ],
      "metadata": {
        "id": "5XVSGEKwVznP"
      },
      "execution_count": 33,
      "outputs": []
    },
    {
      "cell_type": "code",
      "source": [
        "X2 = sm.add_constant(X2)"
      ],
      "metadata": {
        "id": "3n79YG7OVv3s"
      },
      "execution_count": 34,
      "outputs": []
    },
    {
      "cell_type": "code",
      "source": [
        "model2 = sm.OLS(Y2, X2).fit()\n",
        "\n",
        "# Regression summary\n",
        "summary2 = model2.summary()\n",
        "print(summary2)"
      ],
      "metadata": {
        "id": "tkqbJZBXVv3t",
        "colab": {
          "base_uri": "https://localhost:8080/"
        },
        "outputId": "4976a99c-bba6-46cf-f97d-530f333c26ba"
      },
      "execution_count": 35,
      "outputs": [
        {
          "output_type": "stream",
          "name": "stdout",
          "text": [
            "                            OLS Regression Results                            \n",
            "==============================================================================\n",
            "Dep. Variable:                 Profit   R-squared:                       0.947\n",
            "Model:                            OLS   Adj. R-squared:                  0.945\n",
            "Method:                 Least Squares   F-statistic:                     849.8\n",
            "Date:                Thu, 21 Aug 2025   Prob (F-statistic):           3.50e-32\n",
            "Time:                        04:49:15   Log-Likelihood:                -527.44\n",
            "No. Observations:                  50   AIC:                             1059.\n",
            "Df Residuals:                      48   BIC:                             1063.\n",
            "Df Model:                           1                                         \n",
            "Covariance Type:            nonrobust                                         \n",
            "==============================================================================\n",
            "                 coef    std err          t      P>|t|      [0.025      0.975]\n",
            "------------------------------------------------------------------------------\n",
            "const       4.903e+04   2537.897     19.320      0.000    4.39e+04    5.41e+04\n",
            "R&D Spend      0.8543      0.029     29.151      0.000       0.795       0.913\n",
            "==============================================================================\n",
            "Omnibus:                       13.727   Durbin-Watson:                   1.116\n",
            "Prob(Omnibus):                  0.001   Jarque-Bera (JB):               18.536\n",
            "Skew:                          -0.911   Prob(JB):                     9.44e-05\n",
            "Kurtosis:                       5.361   Cond. No.                     1.65e+05\n",
            "==============================================================================\n",
            "\n",
            "Notes:\n",
            "[1] Standard Errors assume that the covariance matrix of the errors is correctly specified.\n",
            "[2] The condition number is large, 1.65e+05. This might indicate that there are\n",
            "strong multicollinearity or other numerical problems.\n"
          ]
        }
      ]
    },
    {
      "cell_type": "markdown",
      "source": [
        "Third Model"
      ],
      "metadata": {
        "id": "IlLKQdLQWdLn"
      }
    },
    {
      "cell_type": "code",
      "source": [
        "df.columns"
      ],
      "metadata": {
        "id": "xKh8l5m1XOFc",
        "colab": {
          "base_uri": "https://localhost:8080/"
        },
        "outputId": "285934d5-68a2-4803-863a-c68a6a1bba67"
      },
      "execution_count": 36,
      "outputs": [
        {
          "output_type": "execute_result",
          "data": {
            "text/plain": [
              "Index(['R&D Spend', 'Administration', 'Marketing Spend', 'State', 'Profit'], dtype='object')"
            ]
          },
          "metadata": {},
          "execution_count": 36
        }
      ]
    },
    {
      "cell_type": "code",
      "source": [
        "X2 = df['R&D Spend']\n",
        "Y2 = df['Profit']\n",
        "X2 = sm.add_constant(X2)\n"
      ],
      "metadata": {
        "id": "MPr_iBzUV-Od"
      },
      "execution_count": 37,
      "outputs": []
    },
    {
      "cell_type": "code",
      "source": [
        "import statsmodels.api as sm\n",
        "\n",
        "X3 = sm.add_constant(X3)\n",
        "\n",
        "model = sm.OLS(Y3, X3).fit()"
      ],
      "metadata": {
        "id": "JxDzcIW_W1Ca"
      },
      "execution_count": 38,
      "outputs": []
    },
    {
      "cell_type": "code",
      "source": [
        "model2 = sm.OLS(Y2, X2).fit()\n",
        "summary2 = model2.summary()\n",
        "\n",
        "print(summary2)\n",
        "print(summary)"
      ],
      "metadata": {
        "id": "SC6XFMEYW2Bg",
        "colab": {
          "base_uri": "https://localhost:8080/"
        },
        "outputId": "725214be-4563-434b-990c-e7e9b4ef4043"
      },
      "execution_count": 40,
      "outputs": [
        {
          "output_type": "stream",
          "name": "stdout",
          "text": [
            "                            OLS Regression Results                            \n",
            "==============================================================================\n",
            "Dep. Variable:                 Profit   R-squared:                       0.947\n",
            "Model:                            OLS   Adj. R-squared:                  0.945\n",
            "Method:                 Least Squares   F-statistic:                     849.8\n",
            "Date:                Thu, 21 Aug 2025   Prob (F-statistic):           3.50e-32\n",
            "Time:                        04:50:08   Log-Likelihood:                -527.44\n",
            "No. Observations:                  50   AIC:                             1059.\n",
            "Df Residuals:                      48   BIC:                             1063.\n",
            "Df Model:                           1                                         \n",
            "Covariance Type:            nonrobust                                         \n",
            "==============================================================================\n",
            "                 coef    std err          t      P>|t|      [0.025      0.975]\n",
            "------------------------------------------------------------------------------\n",
            "const       4.903e+04   2537.897     19.320      0.000    4.39e+04    5.41e+04\n",
            "R&D Spend      0.8543      0.029     29.151      0.000       0.795       0.913\n",
            "==============================================================================\n",
            "Omnibus:                       13.727   Durbin-Watson:                   1.116\n",
            "Prob(Omnibus):                  0.001   Jarque-Bera (JB):               18.536\n",
            "Skew:                          -0.911   Prob(JB):                     9.44e-05\n",
            "Kurtosis:                       5.361   Cond. No.                     1.65e+05\n",
            "==============================================================================\n",
            "\n",
            "Notes:\n",
            "[1] Standard Errors assume that the covariance matrix of the errors is correctly specified.\n",
            "[2] The condition number is large, 1.65e+05. This might indicate that there are\n",
            "strong multicollinearity or other numerical problems.\n",
            "                            OLS Regression Results                            \n",
            "==============================================================================\n",
            "Dep. Variable:                  Price   R-squared:                       0.323\n",
            "Model:                            OLS   Adj. R-squared:                  0.279\n",
            "Method:                 Least Squares   F-statistic:                     7.392\n",
            "Date:                Thu, 21 Aug 2025   Prob (F-statistic):            0.00237\n",
            "Time:                        04:19:34   Log-Likelihood:                -111.46\n",
            "No. Observations:                  34   AIC:                             228.9\n",
            "Df Residuals:                      31   BIC:                             233.5\n",
            "Df Model:                           2                                         \n",
            "Covariance Type:            nonrobust                                         \n",
            "===================================================================================\n",
            "                      coef    std err          t      P>|t|      [0.025      0.975]\n",
            "-----------------------------------------------------------------------------------\n",
            "const             -24.5782     18.147     -1.354      0.185     -61.589      12.433\n",
            "Food_Quality        3.0272      1.172      2.584      0.015       0.638       5.417\n",
            "Service_Quality     0.2661      0.968      0.275      0.785      -1.709       2.241\n",
            "==============================================================================\n",
            "Omnibus:                        5.779   Durbin-Watson:                   1.820\n",
            "Prob(Omnibus):                  0.056   Jarque-Bera (JB):                4.898\n",
            "Skew:                           0.513   Prob(JB):                       0.0864\n",
            "Kurtosis:                       4.550   Cond. No.                         463.\n",
            "==============================================================================\n",
            "\n",
            "Notes:\n",
            "[1] Standard Errors assume that the covariance matrix of the errors is correctly specified.\n"
          ]
        }
      ]
    },
    {
      "cell_type": "code",
      "source": [],
      "metadata": {
        "id": "t3yy5D2hW4yX"
      },
      "execution_count": null,
      "outputs": []
    }
  ]
}